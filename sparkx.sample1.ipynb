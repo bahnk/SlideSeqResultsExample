{
 "cells": [
  {
   "cell_type": "markdown",
   "id": "a25ecefb",
   "metadata": {},
   "source": [
    "# sample1"
   ]
  },
  {
   "cell_type": "markdown",
   "id": "fce8cc84",
   "metadata": {},
   "source": [
    "We run [SPARK-X](https://genomebiology.biomedcentral.com/articles/10.1186/s13059-021-02404-0) on the sample."
   ]
  },
  {
   "cell_type": "markdown",
   "id": "1ca5d1db",
   "metadata": {},
   "source": [
    "Here are the libraries we need."
   ]
  },
  {
   "cell_type": "code",
   "execution_count": 1,
   "id": "e10458fd",
   "metadata": {
    "execution": {
     "iopub.execute_input": "2023-01-15T12:07:00.771120Z",
     "iopub.status.busy": "2023-01-15T12:07:00.766918Z",
     "iopub.status.idle": "2023-01-15T12:07:06.191690Z",
     "shell.execute_reply": "2023-01-15T12:07:06.189906Z"
    },
    "scrolled": true,
    "tags": []
   },
   "outputs": [
    {
     "name": "stderr",
     "output_type": "stream",
     "text": [
      "Attaching SeuratObject\n",
      "\n",
      "\n",
      "Attaching package: ‘dplyr’\n",
      "\n",
      "\n",
      "The following objects are masked from ‘package:stats’:\n",
      "\n",
      "    filter, lag\n",
      "\n",
      "\n",
      "The following objects are masked from ‘package:base’:\n",
      "\n",
      "    intersect, setdiff, setequal, union\n",
      "\n",
      "\n"
     ]
    }
   ],
   "source": [
    "library(SPARK)\n",
    "library(Seurat)\n",
    "library(dplyr)\n",
    "library(future)\n",
    "library(readr)\n",
    "library(tibble)"
   ]
  },
  {
   "cell_type": "markdown",
   "id": "c34c8608",
   "metadata": {},
   "source": [
    "We create the output directory for this noteboook.\n",
    "Every outputs will save there."
   ]
  },
  {
   "cell_type": "code",
   "execution_count": 2,
   "id": "0e748aa9",
   "metadata": {
    "execution": {
     "iopub.execute_input": "2023-01-15T12:07:06.223984Z",
     "iopub.status.busy": "2023-01-15T12:07:06.195876Z",
     "iopub.status.idle": "2023-01-15T12:07:06.270523Z",
     "shell.execute_reply": "2023-01-15T12:07:06.268807Z"
    },
    "scrolled": true,
    "tags": []
   },
   "outputs": [],
   "source": [
    "dir.create(\"output\", showWarnings=F)"
   ]
  },
  {
   "cell_type": "markdown",
   "id": "bd084c33",
   "metadata": {},
   "source": [
    "## Create a reference object"
   ]
  },
  {
   "cell_type": "markdown",
   "id": "41909e04",
   "metadata": {},
   "source": [
    "We load the digital expression matrix and the spatial information of the sample."
   ]
  },
  {
   "cell_type": "code",
   "execution_count": 3,
   "id": "ebc196bf",
   "metadata": {
    "execution": {
     "iopub.execute_input": "2023-01-15T12:07:06.275762Z",
     "iopub.status.busy": "2023-01-15T12:07:06.274554Z",
     "iopub.status.idle": "2023-01-15T12:07:09.659279Z",
     "shell.execute_reply": "2023-01-15T12:07:09.657708Z"
    },
    "scrolled": true,
    "tags": []
   },
   "outputs": [
    {
     "name": "stderr",
     "output_type": "stream",
     "text": [
      "\u001b[1mRows: \u001b[22m\u001b[34m58092\u001b[39m \u001b[1mColumns: \u001b[22m\u001b[34m3\u001b[39m\n",
      "\u001b[36m──\u001b[39m \u001b[1mColumn specification\u001b[22m \u001b[36m────────────────────────────────────────────────────────\u001b[39m\n",
      "\u001b[1mDelimiter:\u001b[22m \",\"\n",
      "\u001b[31mchr\u001b[39m (1): Barcode\n",
      "\u001b[32mdbl\u001b[39m (2): x, y\n",
      "\n",
      "\u001b[36mℹ\u001b[39m Use `spec()` to retrieve the full column specification for this data.\n",
      "\u001b[36mℹ\u001b[39m Specify the column types or set `show_col_types = FALSE` to quiet this message.\n"
     ]
    }
   ],
   "source": [
    "counts <- Seurat::Read10X(\"sample1\", gene.column=2)\n",
    "\n",
    "spatial <-\n",
    "    readr::read_csv(\"sample1.csv\") %>%\n",
    "    tibble::column_to_rownames(\"Barcode\")\n",
    "\n",
    "spatial <- spatial[colnames(counts),]"
   ]
  },
  {
   "cell_type": "markdown",
   "id": "eb7eba96",
   "metadata": {},
   "source": [
    "We remove mitochondrial genes if present."
   ]
  },
  {
   "cell_type": "code",
   "execution_count": 4,
   "id": "de511169",
   "metadata": {
    "execution": {
     "iopub.execute_input": "2023-01-15T12:07:09.666795Z",
     "iopub.status.busy": "2023-01-15T12:07:09.665564Z",
     "iopub.status.idle": "2023-01-15T12:07:09.793620Z",
     "shell.execute_reply": "2023-01-15T12:07:09.791658Z"
    },
    "scrolled": true,
    "tags": []
   },
   "outputs": [],
   "source": [
    "mt_idx <- grep(\"mt-\", rownames(counts), ignore.case=T)\n",
    "if ( length(mt_idx) != 0 )\n",
    "{\n",
    "   counts <- counts[-mt_idx,]\n",
    "}"
   ]
  },
  {
   "cell_type": "markdown",
   "id": "526fe9ad",
   "metadata": {},
   "source": [
    "We run SPARK-X."
   ]
  },
  {
   "cell_type": "code",
   "execution_count": 5,
   "id": "8a6787cc",
   "metadata": {
    "execution": {
     "iopub.execute_input": "2023-01-15T12:07:09.799202Z",
     "iopub.status.busy": "2023-01-15T12:07:09.797773Z",
     "iopub.status.idle": "2023-01-15T12:07:27.768162Z",
     "shell.execute_reply": "2023-01-15T12:07:27.766251Z"
    },
    "scrolled": true,
    "tags": []
   },
   "outputs": [
    {
     "name": "stdout",
     "output_type": "stream",
     "text": [
      "## ===== SPARK-X INPUT INFORMATION ==== \n",
      "## number of total samples: 42215 \n",
      "## number of total genes: 25805 \n",
      "## Running with 12 cores \n",
      "## Testing With Projection Kernel\n",
      "## Testing With Gaussian Kernel 1\n",
      "## Testing With Gaussian Kernel 2\n",
      "## Testing With Gaussian Kernel 3\n",
      "## Testing With Gaussian Kernel 4\n",
      "## Testing With Gaussian Kernel 5\n",
      "## Testing With Cosine Kernel 1\n",
      "## Testing With Cosine Kernel 2\n",
      "## Testing With Cosine Kernel 3\n",
      "## Testing With Cosine Kernel 4\n",
      "## Testing With Cosine Kernel 5\n"
     ]
    },
    {
     "name": "stderr",
     "output_type": "stream",
     "text": [
      "Warning message in FUN(newX[, i], ...):\n",
      "“There are p-values that are exactly 1!”\n",
      "Warning message in FUN(newX[, i], ...):\n",
      "“There are p-values that are exactly 1!”\n",
      "Warning message in FUN(newX[, i], ...):\n",
      "“There are p-values that are exactly 1!”\n",
      "Warning message in FUN(newX[, i], ...):\n",
      "“There are p-values that are exactly 1!”\n",
      "Warning message in FUN(newX[, i], ...):\n",
      "“There are p-values that are exactly 1!”\n",
      "Warning message in FUN(newX[, i], ...):\n",
      "“There are p-values that are exactly 1!”\n"
     ]
    }
   ],
   "source": [
    "spark <- \n",
    "   SPARK::sparkx(\n",
    "      count_in=counts,\n",
    "      locus_in=as.matrix(spatial),\n",
    "      numCores=12,\n",
    "      option=\"mixture\",\n",
    "      verbose=T\n",
    "   )"
   ]
  },
  {
   "cell_type": "markdown",
   "id": "6afc3565",
   "metadata": {},
   "source": [
    "We export the results."
   ]
  },
  {
   "cell_type": "code",
   "execution_count": 6,
   "id": "02ca0d3c",
   "metadata": {
    "execution": {
     "iopub.execute_input": "2023-01-15T12:07:27.773366Z",
     "iopub.status.busy": "2023-01-15T12:07:27.772020Z",
     "iopub.status.idle": "2023-01-15T12:07:28.084055Z",
     "shell.execute_reply": "2023-01-15T12:07:28.082329Z"
    },
    "scrolled": true,
    "tags": []
   },
   "outputs": [],
   "source": [
    "spark$res_mtest %>%\n",
    "   tibble::rownames_to_column(\"gene\") %>%\n",
    "   readr::write_csv(\"output/results.csv\")"
   ]
  },
  {
   "cell_type": "markdown",
   "id": "c59514e8",
   "metadata": {},
   "source": [
    "## Session info"
   ]
  },
  {
   "cell_type": "code",
   "execution_count": 7,
   "id": "ff58504f",
   "metadata": {
    "execution": {
     "iopub.execute_input": "2023-01-15T12:07:28.088668Z",
     "iopub.status.busy": "2023-01-15T12:07:28.087439Z",
     "iopub.status.idle": "2023-01-15T12:07:28.193563Z",
     "shell.execute_reply": "2023-01-15T12:07:28.191956Z"
    },
    "scrolled": true,
    "tags": []
   },
   "outputs": [
    {
     "data": {
      "text/plain": [
       "R version 4.2.1 (2022-06-23)\n",
       "Platform: x86_64-pc-linux-gnu (64-bit)\n",
       "Running under: Ubuntu Kinetic Kudu (development branch)\n",
       "\n",
       "Matrix products: default\n",
       "BLAS:   /usr/lib/x86_64-linux-gnu/openblas-pthread/libblas.so.3\n",
       "LAPACK: /usr/lib/x86_64-linux-gnu/openblas-pthread/libopenblasp-r0.3.20.so\n",
       "\n",
       "locale:\n",
       " [1] LC_CTYPE=C.UTF-8    LC_NUMERIC=C        LC_TIME=C          \n",
       " [4] LC_COLLATE=C        LC_MONETARY=C       LC_MESSAGES=C      \n",
       " [7] LC_PAPER=C          LC_NAME=C           LC_ADDRESS=C       \n",
       "[10] LC_TELEPHONE=C      LC_MEASUREMENT=C    LC_IDENTIFICATION=C\n",
       "\n",
       "attached base packages:\n",
       "[1] stats     graphics  grDevices utils     datasets  methods   base     \n",
       "\n",
       "other attached packages:\n",
       "[1] tibble_3.1.7       readr_2.1.2        future_1.26.1      dplyr_1.0.9       \n",
       "[5] SeuratObject_4.0.4 Seurat_4.1.0       SPARK_1.1.1       \n",
       "\n",
       "loaded via a namespace (and not attached):\n",
       "  [1] Rtsne_0.16            colorspace_2.0-3      deldir_1.0-6         \n",
       "  [4] ellipsis_0.3.2        ggridges_0.5.3        IRdisplay_1.1        \n",
       "  [7] base64enc_0.1-3       spatstat.data_2.2-0   leiden_0.4.2         \n",
       " [10] listenv_0.8.0         matlab_1.0.4          bit64_4.0.5          \n",
       " [13] ggrepel_0.9.1         fansi_1.0.3           codetools_0.2-18     \n",
       " [16] splines_4.2.1         doParallel_1.0.17     polyclip_1.10-0      \n",
       " [19] IRkernel_1.3          jsonlite_1.8.0        ica_1.0-2            \n",
       " [22] cluster_2.1.3         png_0.1-7             uwot_0.1.11          \n",
       " [25] shiny_1.7.1           sctransform_0.3.3     spatstat.sparse_2.1-1\n",
       " [28] compiler_4.2.1        httr_1.4.3            assertthat_0.2.1     \n",
       " [31] Matrix_1.4-1          fastmap_1.1.0         lazyeval_0.2.2       \n",
       " [34] cli_3.3.0             later_1.3.0           htmltools_0.5.2      \n",
       " [37] tools_4.2.1           igraph_1.3.2          gtable_0.3.0         \n",
       " [40] glue_1.6.2            RANN_2.6.1            reshape2_1.4.4       \n",
       " [43] Rcpp_1.0.9            scattermore_0.8       vctrs_0.4.1          \n",
       " [46] nlme_3.1-158          iterators_1.0.14      lmtest_0.9-40        \n",
       " [49] spatstat.random_2.2-0 stringr_1.4.0         globals_0.15.1       \n",
       " [52] mime_0.12             miniUI_0.1.1.1        CompQuadForm_1.4.3   \n",
       " [55] lifecycle_1.0.1       irlba_2.3.5           goftest_1.2-3        \n",
       " [58] MASS_7.3-57           zoo_1.8-10            scales_1.2.0         \n",
       " [61] vroom_1.5.7           spatstat.core_2.4-4   hms_1.1.1            \n",
       " [64] promises_1.2.0.1      spatstat.utils_2.3-1  parallel_4.2.1       \n",
       " [67] RColorBrewer_1.1-3    reticulate_1.25       pbapply_1.5-0        \n",
       " [70] gridExtra_2.3         ggplot2_3.3.6         rpart_4.1.16         \n",
       " [73] stringi_1.7.6         foreach_1.5.2         repr_1.1.4           \n",
       " [76] rlang_1.0.3           pkgconfig_2.0.3       matrixStats_0.62.0   \n",
       " [79] pracma_2.3.8          evaluate_0.15         lattice_0.20-45      \n",
       " [82] ROCR_1.0-11           purrr_0.3.4           tensor_1.5           \n",
       " [85] patchwork_1.1.1       htmlwidgets_1.5.4     bit_4.0.4            \n",
       " [88] cowplot_1.1.1         tidyselect_1.1.2      parallelly_1.32.0    \n",
       " [91] RcppAnnoy_0.0.19      plyr_1.8.7            magrittr_2.0.3       \n",
       " [94] R6_2.5.1              generics_0.1.3        pbdZMQ_0.3-7         \n",
       " [97] DBI_1.1.3             mgcv_1.8-40           pillar_1.7.0         \n",
       "[100] fitdistrplus_1.1-8    survival_3.3-1        abind_1.4-5          \n",
       "[103] future.apply_1.9.0    crayon_1.5.1          uuid_1.1-0           \n",
       "[106] KernSmooth_2.23-20    utf8_1.2.2            spatstat.geom_2.4-0  \n",
       "[109] plotly_4.10.0         tzdb_0.3.0            grid_4.2.1           \n",
       "[112] data.table_1.14.2     digest_0.6.29         xtable_1.8-4         \n",
       "[115] tidyr_1.2.0           httpuv_1.6.5          munsell_0.5.0        \n",
       "[118] viridisLite_0.4.0    "
      ]
     },
     "metadata": {},
     "output_type": "display_data"
    }
   ],
   "source": [
    "sessionInfo()"
   ]
  }
 ],
 "metadata": {
  "kernelspec": {
   "display_name": "R",
   "language": "R",
   "name": "ir"
  },
  "language_info": {
   "codemirror_mode": "r",
   "file_extension": ".r",
   "mimetype": "text/x-r-source",
   "name": "R",
   "pygments_lexer": "r",
   "version": "4.2.1"
  }
 },
 "nbformat": 4,
 "nbformat_minor": 5
}
